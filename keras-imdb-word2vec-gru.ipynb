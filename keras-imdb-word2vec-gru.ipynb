{
 "cells": [
  {
   "cell_type": "code",
   "execution_count": 1,
   "metadata": {
    "collapsed": false
   },
   "outputs": [
    {
     "name": "stderr",
     "output_type": "stream",
     "text": [
      "Using TensorFlow backend.\n"
     ]
    }
   ],
   "source": [
    "import numpy as np\n",
    "from keras.datasets import imdb\n",
    "from keras.preprocessing.sequence import pad_sequences\n",
    "\n",
    "from keras.models import Sequential\n",
    "from keras.layers import Embedding, Dropout, GRU, Flatten, Dense, Activation\n",
    "\n",
    "from keras.callbacks import EarlyStopping, TensorBoard\n",
    "\n",
    "np.random.seed(0)"
   ]
  },
  {
   "cell_type": "code",
   "execution_count": 2,
   "metadata": {
    "collapsed": false
   },
   "outputs": [],
   "source": [
    "word2vec_dir = 'glove.6B.200d.txt'\n",
    "\n",
    "# embedding\n",
    "max_features = 20000\n",
    "max_len = 100\n",
    "embedding_dim = 200\n",
    "\n",
    "# conv1d\n",
    "# kernel_size = 5\n",
    "# filters = 64\n",
    "# pool_size = 4\n",
    "\n",
    "# gru\n",
    "gru_out_size = 70\n",
    "\n",
    "# training\n",
    "batch_size = 128\n",
    "epochs = 10"
   ]
  },
  {
   "cell_type": "code",
   "execution_count": 3,
   "metadata": {
    "collapsed": true
   },
   "outputs": [],
   "source": [
    "(x_train, y_train), (x_test, y_test) = imdb.load_data(num_words=max_features)"
   ]
  },
  {
   "cell_type": "code",
   "execution_count": 4,
   "metadata": {
    "collapsed": false
   },
   "outputs": [],
   "source": [
    "x_train = pad_sequences(x_train, maxlen=max_len)\n",
    "x_test = pad_sequences(x_test, maxlen=max_len)"
   ]
  },
  {
   "cell_type": "code",
   "execution_count": 5,
   "metadata": {
    "collapsed": false
   },
   "outputs": [],
   "source": [
    "word2idx = imdb.get_word_index()\n",
    "\n",
    "word2vec = {}\n",
    "with open(word2vec_dir, encoding='utf8') as f:\n",
    "    for line in f:\n",
    "        word_and_vec = line.split()\n",
    "        word2vec[word_and_vec[0]] = np.asarray(word_and_vec[1:], dtype='float32')\n",
    "        \n",
    "embeddings = np.zeros((max_features, embedding_dim))\n",
    "for word, idx in word2idx.items():\n",
    "    if word in word2vec and idx < max_features:\n",
    "        embeddings[idx] = word2vec.get(word)"
   ]
  },
  {
   "cell_type": "code",
   "execution_count": 6,
   "metadata": {
    "collapsed": true
   },
   "outputs": [],
   "source": [
    "model = Sequential()"
   ]
  },
  {
   "cell_type": "code",
   "execution_count": 7,
   "metadata": {
    "collapsed": false
   },
   "outputs": [
    {
     "name": "stdout",
     "output_type": "stream",
     "text": [
      "_________________________________________________________________\n",
      "Layer (type)                 Output Shape              Param #   \n",
      "=================================================================\n",
      "embedding_1 (Embedding)      (None, 100, 200)          4000000   \n",
      "_________________________________________________________________\n",
      "gru_1 (GRU)                  (None, 70)                56910     \n",
      "_________________________________________________________________\n",
      "dense_1 (Dense)              (None, 1)                 71        \n",
      "=================================================================\n",
      "Total params: 4,056,981\n",
      "Trainable params: 4,056,981\n",
      "Non-trainable params: 0\n",
      "_________________________________________________________________\n"
     ]
    }
   ],
   "source": [
    "## embedding\n",
    "# > (batch_size, seq_len=100)\n",
    "model.add(Embedding(max_features, embedding_dim, weights=[embeddings], input_length=max_len, trainable=True))\n",
    "# > (batch_size, seq_len=100, embedding_dim=100)\n",
    "\n",
    "## gru\n",
    "model.add(GRU(units=gru_out_size, dropout=0.2, recurrent_dropout=0.2))\n",
    "# > (batch_size, nb_features=70)\n",
    "\n",
    "model.add(Dense(units=1, activation='sigmoid'))\n",
    "\n",
    "model.summary()"
   ]
  },
  {
   "cell_type": "code",
   "execution_count": 8,
   "metadata": {
    "collapsed": true
   },
   "outputs": [],
   "source": [
    "model.compile(loss='binary_crossentropy', optimizer='adam', metrics=['accuracy'])"
   ]
  },
  {
   "cell_type": "code",
   "execution_count": 9,
   "metadata": {
    "collapsed": false
   },
   "outputs": [
    {
     "name": "stdout",
     "output_type": "stream",
     "text": [
      "Train on 22500 samples, validate on 2500 samples\n",
      "Epoch 1/10\n",
      "22500/22500 [==============================] - 129s - loss: 0.6540 - acc: 0.5960 - val_loss: 0.5492 - val_acc: 0.7212\n",
      "Epoch 2/10\n",
      "22500/22500 [==============================] - 123s - loss: 0.4343 - acc: 0.7952 - val_loss: 0.3589 - val_acc: 0.8388\n",
      "Epoch 3/10\n",
      "22500/22500 [==============================] - 120s - loss: 0.2735 - acc: 0.8895 - val_loss: 0.3479 - val_acc: 0.8468\n",
      "Epoch 4/10\n",
      "22500/22500 [==============================] - 121s - loss: 0.1860 - acc: 0.9286 - val_loss: 0.3789 - val_acc: 0.8472\n",
      "Epoch 00003: early stopping\n"
     ]
    }
   ],
   "source": [
    "early_stop = EarlyStopping(monitor='val_loss', verbose=1)\n",
    "history = model.fit(x_train, y_train, batch_size=batch_size, epochs=epochs, callbacks=[early_stop], \n",
    "                        validation_split=0.1, verbose=1)"
   ]
  },
  {
   "cell_type": "code",
   "execution_count": 10,
   "metadata": {
    "collapsed": false
   },
   "outputs": [
    {
     "name": "stdout",
     "output_type": "stream",
     "text": [
      "25000/25000 [==============================] - 47s    \n",
      "\n",
      "test score:  0.402163196115\n",
      "test acc:  0.839319999981\n"
     ]
    }
   ],
   "source": [
    "test_score, test_acc = model.evaluate(x_test, y_test, batch_size=batch_size)\n",
    "print('\\ntest score: ', test_score)\n",
    "print('test acc: ', test_acc)"
   ]
  },
  {
   "cell_type": "code",
   "execution_count": 11,
   "metadata": {
    "collapsed": false
   },
   "outputs": [
    {
     "data": {
      "image/png": "[encoded data removed]",
      "text/plain": [
       "<matplotlib.figure.Figure at 0x19896e851d0>"
      ]
     },
     "metadata": {},
     "output_type": "display_data"
    },
    {
     "data": {
      "image/png": "[encoded data removed]",
      "text/plain": [
       "<matplotlib.figure.Figure at 0x198973ec5f8>"
      ]
     },
     "metadata": {},
     "output_type": "display_data"
    }
   ],
   "source": [
    "import matplotlib.pyplot as plt\n",
    "\n",
    "acc = history.history['acc']\n",
    "val_acc = history.history['val_acc']\n",
    "loss = history.history['loss']\n",
    "val_loss = history.history['val_loss']\n",
    "\n",
    "epochs = range(len(acc))\n",
    "plt.plot(epochs, acc, 'bo', label='train acc')\n",
    "plt.plot(epochs, val_acc, 'b', label='val acc')\n",
    "plt.title('train and val acc')\n",
    "plt.legend()\n",
    "\n",
    "plt.figure()\n",
    "\n",
    "plt.plot(epochs, loss, 'bo', label='train loss')\n",
    "plt.plot(epochs, val_loss, 'b', label='val loss')\n",
    "plt.title('trian and val loss')\n",
    "plt.legend()\n",
    "\n",
    "plt.show()"
   ]
  },
  {
   "cell_type": "code",
   "execution_count": null,
   "metadata": {
    "collapsed": true
   },
   "outputs": [],
   "source": [
    "test acc:  0.83232"
   ]
  }
 ],
 "metadata": {
  "anaconda-cloud": {},
  "kernelspec": {
   "display_name": "Python [conda root]",
   "language": "python",
   "name": "conda-root-py"
  },
  "language_info": {
   "codemirror_mode": {
    "name": "ipython",
    "version": 3
   },
   "file_extension": ".py",
   "mimetype": "text/x-python",
   "name": "python",
   "nbconvert_exporter": "python",
   "pygments_lexer": "ipython3",
   "version": "3.5.2"
  }
 },
 "nbformat": 4,
 "nbformat_minor": 1
}
